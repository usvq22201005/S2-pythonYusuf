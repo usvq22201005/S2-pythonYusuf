{
 "cells": [
  {
   "cell_type": "markdown",
   "metadata": {
    "deletable": false,
    "editable": false,
    "run_control": {
     "frozen": true
    }
   },
   "source": [
    "# TD : Listes en python "
   ]
  },
  {
   "cell_type": "markdown",
   "metadata": {
    "deletable": false,
    "editable": false,
    "run_control": {
     "frozen": true
    }
   },
   "source": [
    "## Exercice 1 : Insertion dans un tableau"
   ]
  },
  {
   "cell_type": "markdown",
   "metadata": {
    "deletable": false,
    "editable": false,
    "run_control": {
     "frozen": true
    }
   },
   "source": [
    "Définir une fonction `insertion_tableau` prenant en paramètre une liste `L`, une valeur `v` et un indice `i` et insérant la valeur `v` à l'indice `i` dans `L` (fonction comparable à `L.insert(i,v)` définie en Python). \n",
    "\n",
    "Cette fonction ne doit pas utiliser la fonction `L.insert`, seule la fonction  `L.append` est permise pour augmenter la taille du tableau."
   ]
  },
  {
   "cell_type": "code",
   "execution_count": 7,
   "metadata": {
    "tags": [
     "answer"
    ]
   },
   "outputs": [
    {
     "name": "stdout",
     "output_type": "stream",
     "text": [
      "[2, 7, 23, 9]\n"
     ]
    }
   ],
   "source": [
    "list = [2,7,9]\n",
    "\n",
    "def insertion_tableau(L,v,i):\n",
    "    if i < 0 or i >= len(L):\n",
    "        raise IndexError(\"L'indice est hors limites\")\n",
    "    L.append(v)\n",
    "    \n",
    "    for j in range(len(L)-1,i,-1):\n",
    "        L[j], L[j-1] = L[j-1], L[j]\n",
    "        \n",
    "list = [2,7,9]\n",
    "insertion_tableau(list,23,2)\n",
    "print(list)\n",
    "\n"
   ]
  },
  {
   "cell_type": "markdown",
   "metadata": {
    "deletable": false,
    "editable": false,
    "run_control": {
     "frozen": true
    }
   },
   "source": [
    "Quelle est la complexité asymptotique de la fonction `insertion_tableau` ?"
   ]
  },
  {
   "cell_type": "markdown",
   "metadata": {
    "deletable": false,
    "run_control": {
     "frozen": false
    },
    "tags": [
     "answer"
    ]
   },
   "source": [
    "**Réponse :** La fonction a une complexité linéaire car dans le pire des cas (insertion en début de tableau), on doit décaler tous les élément du tableau.\n",
    "\n",
    "\n"
   ]
  },
  {
   "cell_type": "markdown",
   "metadata": {
    "deletable": false,
    "editable": false,
    "run_control": {
     "frozen": true
    }
   },
   "source": [
    "## Exercice 2 : suppression d'un élément dans un tableau\n",
    "\n",
    "Définir la fonction `suppression_tableau` prenant en paramètre un tableau et un indice et supprimant dans le tableau l'élément se trouvant à l'indice donné (fonction similaire à `L.pop(i)`). \n",
    "\n",
    "Pour supprimer un élément, la fonction peut juste appeler la fonction `L.pop()` (sans argument) pour supprimer la dernière case."
   ]
  },
  {
   "cell_type": "code",
   "execution_count": 1,
   "metadata": {
    "tags": [
     "answer"
    ]
   },
   "outputs": [
    {
     "name": "stdout",
     "output_type": "stream",
     "text": [
      "[2, 7, 23, 8, 5, 1]\n"
     ]
    }
   ],
   "source": [
    "list = [2, 7, 23, 9, 8, 5, 1]\n",
    "\n",
    "def suppression_tableau(tableau, indice):\n",
    "    if indice < 0 or indice >= len(tableau):\n",
    "        raise IndexError(\"L'indice est hors limites\")\n",
    "    \n",
    "    for i in range(indice, len(tableau) - 1):\n",
    "        tableau[i] = tableau[i + 1]\n",
    "    tableau.pop()\n",
    "    \n",
    "suppression_tableau(list,3)\n",
    "print(list)"
   ]
  },
  {
   "cell_type": "markdown",
   "metadata": {
    "deletable": false,
    "editable": false,
    "run_control": {
     "frozen": true
    }
   },
   "source": [
    "Quelle est la complexité de la fonction `suppression_tableau` ?"
   ]
  },
  {
   "cell_type": "markdown",
   "metadata": {
    "deletable": false,
    "run_control": {
     "frozen": false
    },
    "tags": [
     "answer"
    ]
   },
   "source": [
    "**Réponse :** Écrire votre réponse ici.\n",
    "\n",
    "\n"
   ]
  },
  {
   "cell_type": "markdown",
   "metadata": {
    "deletable": false,
    "editable": false,
    "run_control": {
     "frozen": true
    }
   },
   "source": [
    "## Exercice 3 : Copie d'un tableau"
   ]
  },
  {
   "cell_type": "markdown",
   "metadata": {
    "deletable": false,
    "editable": false,
    "run_control": {
     "frozen": true
    }
   },
   "source": [
    "Définir la fonction `copie_tableau` retournant une copie du tableau `L` passé en paramètre (fonction comparable à `L.copy()`). \n",
    "\n",
    "Cette fonction ne doit pas utiliser la fonction `L.copy`, seule la fonction `L.append` est permise pour augmenter la taille du tableau."
   ]
  },
  {
   "cell_type": "code",
   "execution_count": 15,
   "metadata": {
    "tags": [
     "answer"
    ]
   },
   "outputs": [
    {
     "name": "stdout",
     "output_type": "stream",
     "text": [
      "[2, 7, 23, 9, 8, 5, 1]\n",
      "[2, 7, 23, 9, 8, 5, 1]\n"
     ]
    }
   ],
   "source": [
    "list = [2, 7, 23, 9, 8, 5, 1]\n",
    "\n",
    "def copie_tableau(L):\n",
    "    if not L:\n",
    "        raise ValueError(\"Le tableau est vide\")\n",
    "    L_copy = []\n",
    "\n",
    "    for i in range(len(L)):\n",
    "        L_copy.append(L[i])\n",
    "    \n",
    "    return L_copy\n",
    "\n",
    "print(list)\n",
    "list_copy = copie_tableau(list)\n",
    "print(list_copy)\n"
   ]
  },
  {
   "cell_type": "markdown",
   "metadata": {
    "deletable": false,
    "editable": false,
    "run_control": {
     "frozen": true
    }
   },
   "source": [
    "Quelle est la complexité asymptotique de la fonction `copie_tableau` ?"
   ]
  },
  {
   "cell_type": "markdown",
   "metadata": {
    "deletable": false,
    "run_control": {
     "frozen": false
    },
    "tags": [
     "answer"
    ]
   },
   "source": [
    "**Réponse :** Écrire votre réponse ici.\n",
    "\n",
    "\n"
   ]
  },
  {
   "cell_type": "markdown",
   "metadata": {
    "deletable": false,
    "editable": false,
    "run_control": {
     "frozen": true
    }
   },
   "source": [
    "## Exercice 4 : Fonctions sur des  listes (tableaux) triées ou non triées"
   ]
  },
  {
   "cell_type": "markdown",
   "metadata": {
    "deletable": false,
    "editable": false,
    "run_control": {
     "frozen": true
    }
   },
   "source": [
    "Les questions de cet exercice ont pour objet de manipuler les listes/tableaux en Python et de comparer ce qui se passe si on travaille avec des tableaux triés ou des tableaux quelconques. Pour chacune des fonctions à implémenter, on définira deux versions : \n",
    "\n",
    "* une première version prendra en paramètre une liste de nombres quelconques. Pour plus d'efficacité, la fonction pourra modifier l'ordre des éléments dans la liste,\n",
    "\n",
    "* la seconde version prendra en paramètre une liste de nombres triés dans l'ordre croissant ; la liste devra rester triée."
   ]
  },
  {
   "cell_type": "markdown",
   "metadata": {
    "deletable": false,
    "editable": false,
    "run_control": {
     "frozen": true
    }
   },
   "source": [
    "### Question 1 : Minimum d'un tableau"
   ]
  },
  {
   "cell_type": "markdown",
   "metadata": {
    "deletable": false,
    "editable": false,
    "run_control": {
     "frozen": true
    }
   },
   "source": [
    "* Définir la fonction `minimum_tableau` prenant en paramètre un tableau de nombres et retournant le minimum."
   ]
  },
  {
   "cell_type": "code",
   "execution_count": 17,
   "metadata": {
    "tags": [
     "answer"
    ]
   },
   "outputs": [
    {
     "name": "stdout",
     "output_type": "stream",
     "text": [
      "Le minimum du tableau est : 1\n"
     ]
    }
   ],
   "source": [
    "def minimum_tableau(tableau):\n",
    "    if not tableau:\n",
    "        raise ValueError(\"Le tableau est vide\")\n",
    "    \n",
    "    minimum = tableau[0]\n",
    "    for val in tableau:\n",
    "        if val < minimum:\n",
    "            minimum = val\n",
    "    return minimum\n",
    "\n",
    "L = [5, 3, 8, 2, 1]\n",
    "min_val = minimum_tableau(L)\n",
    "print(\"Le minimum du tableau est :\", min_val)\n"
   ]
  },
  {
   "cell_type": "markdown",
   "metadata": {
    "deletable": false,
    "editable": false,
    "run_control": {
     "frozen": true
    }
   },
   "source": [
    "* Définir la fonction `minimum_tableau_trie` prenant en paramètre un tableau de nombres triés dans l'ordre croissant et retournant le minimum."
   ]
  },
  {
   "cell_type": "code",
   "execution_count": 18,
   "metadata": {
    "tags": [
     "answer"
    ]
   },
   "outputs": [
    {
     "name": "stdout",
     "output_type": "stream",
     "text": [
      "Le minimum du tableau est : 1\n"
     ]
    }
   ],
   "source": [
    "def minimum_tableau_trie(tableau):\n",
    "    return tableau[0]\n",
    "\n",
    "L =[1, 2, 3, 5, 8]\n",
    "min_val = minimum_tableau_trie(L)\n",
    "print(\"Le minimum du tableau est :\", min_val)"
   ]
  },
  {
   "cell_type": "markdown",
   "metadata": {
    "deletable": false,
    "editable": false,
    "run_control": {
     "frozen": true
    }
   },
   "source": [
    "- Quelle est la complexité dans le pire des cas de chacune de ces fonctions ?"
   ]
  },
  {
   "cell_type": "markdown",
   "metadata": {
    "deletable": false,
    "run_control": {
     "frozen": false
    },
    "tags": [
     "answer"
    ]
   },
   "source": [
    "**Réponse :** Écrire votre réponse ici.\n",
    "\n",
    "\n"
   ]
  },
  {
   "cell_type": "markdown",
   "metadata": {
    "deletable": false,
    "editable": false,
    "run_control": {
     "frozen": true
    }
   },
   "source": [
    "### Question 2 : Ajout d'un élément"
   ]
  },
  {
   "cell_type": "markdown",
   "metadata": {
    "deletable": false,
    "editable": false,
    "run_control": {
     "frozen": true
    }
   },
   "source": [
    "* Définir la fonction `ajouter_tableau` ajoutant un nombre à un tableau de nombres."
   ]
  },
  {
   "cell_type": "code",
   "execution_count": null,
   "metadata": {
    "tags": [
     "answer"
    ]
   },
   "outputs": [],
   "source": [
    "############################## \n",
    "#   Saisir votre code ici.   #\n",
    "##############################\n",
    "\n",
    "\n"
   ]
  },
  {
   "cell_type": "markdown",
   "metadata": {
    "deletable": false,
    "editable": false,
    "run_control": {
     "frozen": true
    }
   },
   "source": [
    "* Définir la fonction `ajouter_tableau_trie` ajoutant un nombre à un tableau trié."
   ]
  },
  {
   "cell_type": "code",
   "execution_count": null,
   "metadata": {
    "tags": [
     "answer"
    ]
   },
   "outputs": [],
   "source": [
    "############################## \n",
    "#   Saisir votre code ici.   #\n",
    "##############################\n",
    "\n",
    "\n"
   ]
  },
  {
   "cell_type": "markdown",
   "metadata": {
    "deletable": false,
    "editable": false,
    "run_control": {
     "frozen": true
    }
   },
   "source": [
    "- Quelle est la complexité dans le pire des cas de chacune de ces fonctions ?"
   ]
  },
  {
   "cell_type": "markdown",
   "metadata": {
    "deletable": false,
    "run_control": {
     "frozen": false
    },
    "tags": [
     "answer"
    ]
   },
   "source": [
    "**Réponse :** Écrire votre réponse ici.\n",
    "\n",
    "\n"
   ]
  },
  {
   "cell_type": "markdown",
   "metadata": {
    "deletable": false,
    "editable": false,
    "run_control": {
     "frozen": true
    }
   },
   "source": [
    "### Question 3 : Suppression d'un élément"
   ]
  },
  {
   "cell_type": "markdown",
   "metadata": {
    "deletable": false,
    "editable": false,
    "run_control": {
     "frozen": true
    }
   },
   "source": [
    "* Définir la fonction `supprimer_tableau` prenant en paramètre un tableau et un indice `id` et supprimant dans le tableau la valeur d'indice `id`.\n",
    "\n",
    "  On utilisera pour cela la fonction `L.pop()` qui supprime la dernière case d'un tableau, mais pas la fonction `L.pop(i)`"
   ]
  },
  {
   "cell_type": "code",
   "execution_count": null,
   "metadata": {
    "tags": [
     "answer"
    ]
   },
   "outputs": [],
   "source": [
    "############################## \n",
    "#   Saisir votre code ici.   #\n",
    "##############################\n",
    "\n",
    "\n"
   ]
  },
  {
   "cell_type": "markdown",
   "metadata": {
    "deletable": false,
    "editable": false,
    "run_control": {
     "frozen": true
    }
   },
   "source": [
    "* Définir la fonction `supprimer_tableau_trie` prenant en paramètre un tableau trié et un indice `id` et supprimant dans le tableau la valeur d'indice `id`."
   ]
  },
  {
   "cell_type": "code",
   "execution_count": null,
   "metadata": {
    "tags": [
     "answer"
    ]
   },
   "outputs": [],
   "source": [
    "############################## \n",
    "#   Saisir votre code ici.   #\n",
    "##############################\n",
    "\n",
    "\n"
   ]
  },
  {
   "cell_type": "markdown",
   "metadata": {
    "deletable": false,
    "editable": false,
    "run_control": {
     "frozen": true
    }
   },
   "source": [
    "- Quelle est la complexité dans le pire des cas de chacune de ces fonctions ?"
   ]
  },
  {
   "cell_type": "markdown",
   "metadata": {
    "deletable": false,
    "run_control": {
     "frozen": false
    },
    "tags": [
     "answer"
    ]
   },
   "source": [
    "**Réponse :** Écrire votre réponse ici.\n",
    "\n",
    "\n"
   ]
  },
  {
   "cell_type": "markdown",
   "metadata": {
    "deletable": false,
    "editable": false,
    "run_control": {
     "frozen": true
    }
   },
   "source": [
    "## Exercice 5 : Réarrangement de tableau**"
   ]
  },
  {
   "cell_type": "markdown",
   "metadata": {
    "deletable": false,
    "editable": false,
    "run_control": {
     "frozen": true
    }
   },
   "source": [
    "### Question 1\n",
    "\n",
    "Écrire une fonction `deplacer(T, k)` prenant en paramètre un tableau `T` et une valeur `k` et permutant les valeurs du tableau `T` de manière à ce que toutes les valeurs strictement inférieures à `k` soient au début de tableau. "
   ]
  },
  {
   "cell_type": "markdown",
   "metadata": {
    "deletable": false,
    "editable": false,
    "run_control": {
     "frozen": true
    }
   },
   "source": [
    "**Remarque :** L'ordre des éléments dans le tableau n'a pas d'importance tant que les éléments strictement inférieurs à `k` sont placés au début du tableau."
   ]
  },
  {
   "cell_type": "code",
   "execution_count": 19,
   "metadata": {
    "tags": [
     "answer"
    ]
   },
   "outputs": [
    {
     "name": "stdout",
     "output_type": "stream",
     "text": [
      "[2, 1, 5, 3, 4]\n"
     ]
    }
   ],
   "source": [
    "def deplacer(T, k): #quiksort\n",
    "    i, j = 0, len(T) - 1\n",
    "    while i < j:\n",
    "        while T[i] < k:\n",
    "            i += 1\n",
    "        while T[j] >= k:\n",
    "            j -= 1\n",
    "        if i < j:\n",
    "            T[i], T[j] = T[j], T[i]\n",
    "\n",
    "\n",
    "T = [3, 1, 5, 2, 4]\n",
    "k = 3\n",
    "deplacer(T, k)\n",
    "print(T)\n",
    "\n",
    "\n"
   ]
  },
  {
   "cell_type": "markdown",
   "metadata": {
    "deletable": false,
    "editable": false,
    "run_control": {
     "frozen": true
    }
   },
   "source": [
    "### Question 2\n",
    "\n",
    "Définir une fonction de tests unitaires de la fonction `deplacer`."
   ]
  },
  {
   "cell_type": "code",
   "execution_count": 20,
   "metadata": {
    "tags": [
     "answer"
    ]
   },
   "outputs": [
    {
     "ename": "AssertionError",
     "evalue": "",
     "output_type": "error",
     "traceback": [
      "\u001b[1;31m---------------------------------------------------------------------------\u001b[0m",
      "\u001b[1;31mAssertionError\u001b[0m                            Traceback (most recent call last)",
      "Input \u001b[1;32mIn [20]\u001b[0m, in \u001b[0;36m<cell line: 3>\u001b[1;34m()\u001b[0m\n\u001b[0;32m      1\u001b[0m T \u001b[38;5;241m=\u001b[39m [\u001b[38;5;241m3\u001b[39m, \u001b[38;5;241m1\u001b[39m, \u001b[38;5;241m5\u001b[39m, \u001b[38;5;241m2\u001b[39m, \u001b[38;5;241m4\u001b[39m]\n\u001b[0;32m      2\u001b[0m k \u001b[38;5;241m=\u001b[39m \u001b[38;5;241m3\u001b[39m\n\u001b[1;32m----> 3\u001b[0m \u001b[38;5;28;01massert\u001b[39;00m deplacer(T,k) \u001b[38;5;241m==\u001b[39m [\u001b[38;5;241m2\u001b[39m, \u001b[38;5;241m1\u001b[39m, \u001b[38;5;241m5\u001b[39m, \u001b[38;5;241m3\u001b[39m, \u001b[38;5;241m4\u001b[39m]\n",
      "\u001b[1;31mAssertionError\u001b[0m: "
     ]
    }
   ],
   "source": [
    "T = [3, 1, 5, 2, 4]\n",
    "k = 3\n",
    "assert deplacer(T,k) == [2, 1, 5, 3, 4]\n",
    "\n",
    "\n"
   ]
  }
 ],
 "metadata": {
  "celltoolbar": "Format de la Cellule Texte Brut",
  "kernelspec": {
   "display_name": "Python 3",
   "language": "python",
   "name": "python3"
  },
  "language_info": {
   "codemirror_mode": {
    "name": "ipython",
    "version": 3
   },
   "file_extension": ".py",
   "mimetype": "text/x-python",
   "name": "python",
   "nbconvert_exporter": "python",
   "pygments_lexer": "ipython3",
   "version": "3.10.4"
  },
  "toc": {
   "base_numbering": 1,
   "nav_menu": {},
   "number_sections": false,
   "sideBar": false,
   "skip_h1_title": false,
   "title_cell": "Table of Contents",
   "title_sidebar": "Contents",
   "toc_cell": false,
   "toc_position": {},
   "toc_section_display": false,
   "toc_window_display": false
  }
 },
 "nbformat": 4,
 "nbformat_minor": 5
}
